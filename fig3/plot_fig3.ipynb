{
 "cells": [
  {
   "cell_type": "code",
   "execution_count": null,
   "id": "fde6f31e-85e6-4492-8fde-7dc29dcbcc4a",
   "metadata": {},
   "outputs": [],
   "source": [
    "import numpy as np\n",
    "import matplotlib.pyplot as plt\n",
    "\n",
    "s_hat=0.8\n",
    "gamma_e=0.2\n",
    "T_lap=2*np.pi*s_hat/gamma_e\n",
    "\n",
    "plt.style.use('../nature_style.txt')\n",
    "\n",
    "data_gamma0 = np.loadtxt(\"data/gamma0_gkvp.eng.001\")\n",
    "data_remap_mj07nx31 = np.loadtxt(\"data/remap_mj07nx31_gkvp.eng.001\")\n",
    "data_remap_mj01nx04 = np.loadtxt(\"data/remap_mj01nx04_gkvp.eng.001\")\n",
    "data_rotating_mj07nx31 = np.loadtxt(\"data/rotating_mj07nx31_gkvp.eng.001\")\n",
    "data_rotating_mj01nx04 = np.loadtxt(\"data/rotating_mj01nx04_gkvp.eng.001\")\n",
    "\n",
    "# plt.style.use('../nature_style.txt')\n",
    "plt.rcParams[\"xtick.top\"] = False\n",
    "\n",
    "fig=plt.figure(figsize=(3.5,2.5),dpi=600) # figsize=(width,height(inch)),dpi(dots per inch)\n",
    "ax=fig.add_subplot(111)\n",
    "ax.set_xlabel(r\"Time $t$ [$R_\\mathrm{a}/v_\\mathrm{ti}$]\")\n",
    "ax.set_ylabel(r\"Potential $\\langle|\\tilde{\\phi}|^2\\rangle$ [$(T_\\mathrm{i}\\rho_\\mathrm{ti}^2/(eR_a))^2$]\")\n",
    "ax.axvline(T_lap,c=\"gray\",lw=0.3,linestyle=\"--\")\n",
    "ax.axvline(2*T_lap,c=\"gray\",lw=0.3,linestyle=\"--\")\n",
    "ax.plot([3*T_lap,3*T_lap],[30,8e7],c=\"gray\",lw=0.3,linestyle=\"--\")# ax.axvline(3*T_lap,c=\"gray\",lw=0.3,linestyle=\"--\")\n",
    "ax.plot([4*T_lap,4*T_lap],[30,8e7],c=\"gray\",lw=0.3,linestyle=\"--\")# ax.axvline(4*T_lap,c=\"gray\",lw=0.3,linestyle=\"--\")\n",
    "ax.plot(data_gamma0[:,0], data_gamma0[:,1],linestyle=(0,(1,1)),label=r\"$\\gamma_E=0$\")\n",
    "ax.plot(data_remap_mj07nx31[:,0], data_remap_mj07nx31[:,1],\"-\",label=r\"Remap ($k_{x,\\mathrm{min}}=0.36$)\")\n",
    "ax.plot(data_remap_mj01nx04[:,0], data_remap_mj01nx04[:,1],linestyle=(0,(5,1,1,1)),label=r\"Remap ($k_{x,\\mathrm{min}}=2.51$)\")\n",
    "ax.plot(data_rotating_mj07nx31[:,0], data_rotating_mj07nx31[:,1],linestyle=(0,(5,1)),c=\"k\",label=r\"Rotating ($k_{x,\\mathrm{min}}=0.36$)\")\n",
    "ax.plot(data_rotating_mj01nx04[:,0], data_rotating_mj01nx04[:,1],linestyle=(0,(5,1,1,1,1,1)),label=r\"Rotating ($k_{x,\\mathrm{min}}=2.51$)\")\n",
    "ax.set_yscale(\"log\")\n",
    "ax.set_xlim(0,110)\n",
    "ax.set_ylim(1e-5,1e8)\n",
    "# ax.legend(loc=\"upper left\", bbox_to_anchor=(1.13,1.02),edgecolor=\"k\")\n",
    "ax.legend(loc=\"lower right\")\n",
    "\n",
    "def forward(time):\n",
    "    return time\n",
    "def inverse(time_normalized):\n",
    "    return time_normalized\n",
    "secax = ax.secondary_xaxis(\"top\", functions=(forward, inverse))\n",
    "# secax.set_xlabel(r\"Shifted time $\\bar{t}=t-T_\\mathrm{lap}$\")\n",
    "secax.set_xticks(np.linspace(0,4*T_lap,5))\n",
    "secax.set_xticklabels([\"0\",r\"$T_\\mathrm{lap}$\",r\"$2T_\\mathrm{lap}$\",r\"$3T_\\mathrm{lap}$\",r\"$4T_\\mathrm{lap}$\"])\n",
    "secax.minorticks_off()\n",
    "\n",
    "\n",
    "fig.tight_layout()\n",
    "plt.savefig(\"fig3.pdf\",dpi=600,bbox_inches=\"tight\")\n",
    "plt.show()"
   ]
  },
  {
   "cell_type": "code",
   "execution_count": null,
   "id": "ae9abbb8-b791-4781-8512-d731fa827302",
   "metadata": {},
   "outputs": [],
   "source": []
  },
  {
   "cell_type": "code",
   "execution_count": null,
   "id": "5e5ee494-55d7-4677-897f-e5b66deff11f",
   "metadata": {},
   "outputs": [],
   "source": []
  }
 ],
 "metadata": {
  "kernelspec": {
   "display_name": "Python 3 (ipykernel)",
   "language": "python",
   "name": "python3"
  },
  "language_info": {
   "codemirror_mode": {
    "name": "ipython",
    "version": 3
   },
   "file_extension": ".py",
   "mimetype": "text/x-python",
   "name": "python",
   "nbconvert_exporter": "python",
   "pygments_lexer": "ipython3",
   "version": "3.12.5"
  }
 },
 "nbformat": 4,
 "nbformat_minor": 5
}
